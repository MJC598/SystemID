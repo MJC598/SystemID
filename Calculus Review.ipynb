{
 "cells": [
  {
   "cell_type": "markdown",
   "id": "cb3e8186",
   "metadata": {},
   "source": [
    "## Calculus Review\n",
    "#### Differentiation\n",
    "The key to calculus (in fact the fundamental theorem of calculus) states:\n",
    "\n",
    "$$\n",
    "\\frac{d}{dx}\\int_{a}^{x} f(t)dt = f(x)\n",
    "$$\n",
    "\n",
    "or if you prefer:\n",
    "\n",
    "$$\n",
    "\\int_{a}^{b} f(x)dx = F(b) - F(a)\n",
    "$$\n",
    "\n",
    "This is important because it equates integral and differential calculus.\n",
    "\n",
    "The definition of a derivative is:\n",
    "\n",
    "$$\n",
    "\\frac{dy}{dx} = \\lim_{h\\to 0}\\frac{f(x+h) - f(x)}{h}\n",
    "$$\n",
    "\n",
    "Understanding the definition of a derviative is important because computers are by nature discrete machines and thus cannot deal with continuous differentiation or integration. It instead uses approximation with h becoming incredibly small.\n",
    "\n",
    "#### Chain Rule\n",
    "Differentiation is important, but as functions get complicated, it becomes important to remember how to differentiate functions with multiple components. This is where chain rule comes into play. It is used extensively in machine learning (see backpropagation for an example). It can be defined as:\n",
    "\n",
    "$$\n",
    "\\frac{dy}{dx} = \\frac{dy}{du} \\frac{du}{dx}\n",
    "$$\n",
    "\n",
    "To put this into perspective, if a mathematical model has multiple internal parameters that need to be updated (i.e. different weights) then we need to update the error calculation with respect to the individual weight. This will result in different paths and requires using the chain rule. Let's take a look at a more concrete example:\n",
    "\n",
    "#### Gradients\n",
    "Gradients are used all over in system identification. The easiest way to think about it is the partial derivative of each variable in a with a multivariable function:\n",
    "\n",
    "$$\n",
    "\\nabla f(p) = \\begin{bmatrix}\n",
    "               \\frac{\\partial f}{\\partial x_1} (p) \\\\\n",
    "               . \\\\\n",
    "               . \\\\\n",
    "               . \\\\\n",
    "               \\frac{\\partial f}{\\partial x_n} (p)\n",
    "              \\end{bmatrix}\n",
    "$$\n",
    "\n",
    "In hyperdimensional planes, this gradient is used to calculate the direction and fastest increase (or fastest decrease if the vector is negated). This is where gradient descent, hill climbing, etc. is derived.\n",
    "\n",
    "#### Optimization\n",
    "Back in Calculus I/II the term critical points was likely used a lot. These denoted maxima or minima of a function (local or global). These exist when the derivative of a function is 0. Because of the 0 slope, this means these points are either saddle points, maxima, or minima. All are important areas of study and points to watch out for in machine learning and system identification as they can create traps that our models can get stuck in.  "
   ]
  },
  {
   "cell_type": "code",
   "execution_count": 23,
   "id": "73921b3f",
   "metadata": {},
   "outputs": [
    {
     "name": "stdout",
     "output_type": "stream",
     "text": [
      "Coefficients: \n",
      " [938.23786125]\n",
      "Mean squared error: 2548.07\n",
      "Coefficient of determination: 0.47\n"
     ]
    },
    {
     "data": {
      "image/png": "[encoded data removed]",
      "text/plain": [
       "<Figure size 432x288 with 1 Axes>"
      ]
     },
     "metadata": {},
     "output_type": "display_data"
    }
   ],
   "source": [
    "\"\"\"\n",
    "Linear Regression Example from SKLearn\n",
    "https://scikit-learn.org/stable/auto_examples/linear_model/plot_ols.html\n",
    "\"\"\"\n",
    "# Code source: Jaques Grobler\n",
    "# License: BSD 3 clause\n",
    "\n",
    "\n",
    "import matplotlib.pyplot as plt\n",
    "import numpy as np\n",
    "from sklearn import datasets, linear_model\n",
    "from sklearn.metrics import mean_squared_error, r2_score\n",
    "\n",
    "# Load the diabetes dataset\n",
    "diabetes_X, diabetes_y = datasets.load_diabetes(return_X_y=True)\n",
    "\n",
    "# Use only one feature\n",
    "diabetes_X = diabetes_X[:, np.newaxis, 2]\n",
    "\n",
    "# Split the data into training/testing sets\n",
    "diabetes_X_train = diabetes_X[:-20]\n",
    "diabetes_X_test = diabetes_X[-20:]\n",
    "\n",
    "# Split the targets into training/testing sets\n",
    "diabetes_y_train = diabetes_y[:-20]\n",
    "diabetes_y_test = diabetes_y[-20:]\n",
    "\n",
    "# Create linear regression object\n",
    "regr = linear_model.LinearRegression()\n",
    "\n",
    "# Train the model using the training sets\n",
    "regr.fit(diabetes_X_train, diabetes_y_train)\n",
    "\n",
    "# Make predictions using the testing set\n",
    "diabetes_y_pred = regr.predict(diabetes_X_test)\n",
    "\n",
    "# The coefficients\n",
    "print('Coefficients: \\n', regr.coef_)\n",
    "# The mean squared error\n",
    "print('Mean squared error: %.2f'\n",
    "      % mean_squared_error(diabetes_y_test, diabetes_y_pred))\n",
    "# The coefficient of determination: 1 is perfect prediction\n",
    "print('Coefficient of determination: %.2f'\n",
    "      % r2_score(diabetes_y_test, diabetes_y_pred))\n",
    "\n",
    "# Plot outputs\n",
    "plt.scatter(diabetes_X_test, diabetes_y_test,  color='black')\n",
    "plt.plot(diabetes_X_test, diabetes_y_pred, color='blue', linewidth=3)\n",
    "\n",
    "plt.xticks(())\n",
    "plt.yticks(())\n",
    "\n",
    "plt.show()"
   ]
  },
  {
   "cell_type": "code",
   "execution_count": 20,
   "id": "51e8084c",
   "metadata": {},
   "outputs": [
    {
     "name": "stdout",
     "output_type": "stream",
     "text": [
      "[897.84229684 146.4002434 ]\n",
      "Mean squared error: 2407.87\n",
      "Coefficient of determination: 0.50\n"
     ]
    },
    {
     "data": {
      "image/png": "[encoded data removed]",
      "text/plain": [
       "<Figure size 432x288 with 1 Axes>"
      ]
     },
     "metadata": {
      "needs_background": "light"
     },
     "output_type": "display_data"
    }
   ],
   "source": [
    "\"\"\"\n",
    "Linear Regression by hand\n",
    "\"\"\"\n",
    "\n",
    "import matplotlib.pyplot as plt\n",
    "import numpy as np\n",
    "from sklearn import datasets, linear_model\n",
    "from sklearn.metrics import mean_squared_error, r2_score\n",
    "\n",
    "# Load the diabetes dataset\n",
    "diabetes_X, diabetes_y = datasets.load_diabetes(return_X_y=True)\n",
    "\n",
    "# Use only one feature\n",
    "diabetes_X = diabetes_X[:, np.newaxis, 2]\n",
    "\n",
    "# Split the data into training/testing sets\n",
    "diabetes_X_train = diabetes_X[:-20]\n",
    "diabetes_X_test = diabetes_X[-20:]\n",
    "\n",
    "# Split the targets into training/testing sets\n",
    "diabetes_y_train = diabetes_y[:-20]\n",
    "diabetes_y_test = diabetes_y[-20:]\n",
    "\n",
    "eta = 0.05\n",
    "beta = np.array([0., 0.])\n",
    "def err_func(y, yhat):\n",
    "    return np.sum(np.square(y-yhat))\n",
    "\n",
    "def grad_desc(x, y, beta, eta, epochs=75):\n",
    "    for epoch in range(epochs):\n",
    "        for i,sample in enumerate(x):\n",
    "            h = sample * beta[0] + beta[1] #linear regression equation\n",
    "#             print(h.shape)\n",
    "            loss = err_func(h, y[i])\n",
    "#             print(loss.shape)\n",
    "            partialL_partialyhat = 2*(h-y[i])\n",
    "            partialyhat_partialbeta0 = sample\n",
    "            partialyhat_partialbeta1 = 1 #bias\n",
    "            grad0 = partialL_partialyhat * partialyhat_partialbeta0\n",
    "            grad1 = partialL_partialyhat * partialyhat_partialbeta1\n",
    "            beta[0] = beta[0] - eta * grad0\n",
    "            beta[1] = beta[1] - eta * grad1\n",
    "    return beta\n",
    "\n",
    "beta = grad_desc(diabetes_X_train, diabetes_y_train, beta, eta)\n",
    "diabetes_y_pred = diabetes_X_test * beta[0] + beta[1]\n",
    "print(beta)\n",
    "print('Mean squared error: %.2f'\n",
    "      % mean_squared_error(diabetes_y_test, diabetes_y_pred))\n",
    "# The coefficient of determination: 1 is perfect prediction\n",
    "print('Coefficient of determination: %.2f'\n",
    "      % r2_score(diabetes_y_test, diabetes_y_pred))\n",
    "# Plot outputs\n",
    "plt.scatter(diabetes_X_test, diabetes_y_test,  color='black')\n",
    "\n",
    "plt.plot(diabetes_X_test, diabetes_y_pred, color='blue', linewidth=3)\n",
    "plt.show()"
   ]
  },
  {
   "cell_type": "code",
   "execution_count": null,
   "id": "f62afe7a",
   "metadata": {},
   "outputs": [],
   "source": []
  }
 ],
 "metadata": {
  "kernelspec": {
   "display_name": "Python 3 (ipykernel)",
   "language": "python",
   "name": "python3"
  },
  "language_info": {
   "codemirror_mode": {
    "name": "ipython",
    "version": 3
   },
   "file_extension": ".py",
   "mimetype": "text/x-python",
   "name": "python",
   "nbconvert_exporter": "python",
   "pygments_lexer": "ipython3",
   "version": "3.8.11"
  }
 },
 "nbformat": 4,
 "nbformat_minor": 5
}
