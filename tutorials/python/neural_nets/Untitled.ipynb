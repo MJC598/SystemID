{
 "cells": [
  {
   "cell_type": "markdown",
   "id": "3d4310ec-cd7b-4e6a-b784-0f83dbe86971",
   "metadata": {},
   "source": [
    "## Neural Networks\n",
    "\n",
    "Neural Networks (NNs) have grown incredibly popular in the last 2 decades. They have been applied to supervised, unsupervised, semi-supervised, reinforcement, and nearly any other possible type of machine learning concieved. However they are not a new idea, in fact they date back to the 1960s, its just modern researchers didn't have the hardware necessary to train and run these tools until the late 90s.\n",
    "\n",
    "And of course, the second thing that enabled the explosion of neural networks is the backpropagation algorithm. For more information on that please check out the notebook specifically on backpropagation.\n",
    "\n",
    "At the base of a neural network is a perceptron, something else we've had in the available tutorials here. It is essentially a tool that can act as a linear regression or logistic regression system. In NNs these are combined together to get massive nets into which features are extracted and more complex decision boundaries achieved."
   ]
  },
  {
   "cell_type": "code",
   "execution_count": null,
   "id": "87f619a4-596a-4366-8f30-e93001acece7",
   "metadata": {},
   "outputs": [],
   "source": []
  }
 ],
 "metadata": {
  "kernelspec": {
   "display_name": "Python 3 (ipykernel)",
   "language": "python",
   "name": "python3"
  },
  "language_info": {
   "codemirror_mode": {
    "name": "ipython",
    "version": 3
   },
   "file_extension": ".py",
   "mimetype": "text/x-python",
   "name": "python",
   "nbconvert_exporter": "python",
   "pygments_lexer": "ipython3",
   "version": "3.8.11"
  }
 },
 "nbformat": 4,
 "nbformat_minor": 5
}
