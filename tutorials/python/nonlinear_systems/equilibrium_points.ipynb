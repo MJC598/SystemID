{
 "cells": [
  {
   "cell_type": "markdown",
   "metadata": {
    "collapsed": true,
    "pycharm": {
     "name": "#%% md\n"
    }
   },
   "source": [
    "# Nonlinear Systems\n",
    "Dynamical systems can be modeled by a finite number of first order ODEs\n",
    "\n",
    "$$\n",
    "\\dot x_1 = f_1(t, x_1, ..., x_n, u_1, ..., u_p)\\\\\n",
    "\\dot x_2 = f_2(t, x_1, ..., x_n, u_1, ..., u_p)\\\\\n",
    "... \\text{through} ...\\\\\n",
    "\\dot x_n = f_n(t, x_1, ..., x_n, u_1, ..., u_p)\\\\\n",
    "$$\n",
    "where $\\dot x_i$ is the derivative of $x_i$ with respect to time, $t$, and input variables $u_1, ..., u_p$\n",
    "Thus, the equation with all ODEs in vector form can be written as:\n",
    "$$\n",
    "\\dot x = f(t, x, u)\n",
    "$$\n",
    "this can be reduced to exclude the parameter $u$ if there is no input to the system. It can also be reduced further to ignore the time variable $t$ if $f$ does not explicitly depend on $t$."
   ]
  },
  {
   "cell_type": "markdown",
   "source": [
    "## Equilibrium Points\n",
    "A point $x = x^*$ is an equilibrium point if whenever the start starts at $x^*$ it will stay at $x^*$ for the entire future\n",
    "\n",
    "Because linear analysis is much more familiar, the first step in analyzing nonlinear systems many times is to linearize the systems."
   ],
   "metadata": {
    "collapsed": false,
    "pycharm": {
     "name": "#%% md\n"
    }
   }
  },
  {
   "cell_type": "code",
   "execution_count": null,
   "outputs": [],
   "source": [],
   "metadata": {
    "collapsed": false,
    "pycharm": {
     "name": "#%%\n"
    }
   }
  }
 ],
 "metadata": {
  "kernelspec": {
   "display_name": "Python 3",
   "language": "python",
   "name": "python3"
  },
  "language_info": {
   "codemirror_mode": {
    "name": "ipython",
    "version": 2
   },
   "file_extension": ".py",
   "mimetype": "text/x-python",
   "name": "python",
   "nbconvert_exporter": "python",
   "pygments_lexer": "ipython2",
   "version": "2.7.6"
  }
 },
 "nbformat": 4,
 "nbformat_minor": 0
}