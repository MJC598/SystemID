{
 "cells": [
  {
   "cell_type": "code",
   "execution_count": 1,
   "id": "49630d53-deee-4963-9605-6dc99cce6f10",
   "metadata": {},
   "outputs": [],
   "source": [
    "import torch\n",
    "import torch.nn as nn\n",
    "import torchvision\n",
    "from torchvision.transforms import ToTensor"
   ]
  },
  {
   "cell_type": "code",
   "execution_count": 2,
   "id": "f7ee432c-e3cb-4b41-9d2e-126c475ae261",
   "metadata": {},
   "outputs": [],
   "source": [
    "#Derived from https://medium.com/@nutanbhogendrasharma/pytorch-convolutional-neural-network-with-mnist-dataset-4e8a4265e118\n",
    "\n",
    "class ExampleCNN(nn.Module):\n",
    "    def __init__(self):\n",
    "        super(ExampleCNN, self).__init__()\n",
    "        self.conv1 = nn.Conv2d(in_channels=1, out_channels=16, kernel_size=5, stride=1, padding=2)\n",
    "        self.activation = nn.ReLU()\n",
    "        self.pool2d = nn.MaxPool2d(kernel_size=2)\n",
    "        self.conv2 = nn.Conv2d(in_channels=16, out_channels=32, kernel_size=5, stride=1, padding=2)\n",
    "        self.fcn = nn.Linear(32 * 7 * 7, 10)\n",
    "        \n",
    "    def forward(self, x):\n",
    "        x = self.pool2d(self.activation(self.conv1(x)))\n",
    "        x = self.pool2d(self.activation(self.conv2(x)))\n",
    "        \n",
    "        x = x.view(x.size(0), -1)\n",
    "        \n",
    "        out = self.fcn(x)\n",
    "        return out"
   ]
  },
  {
   "cell_type": "code",
   "execution_count": 3,
   "id": "9fe06a3b-9d23-4a53-99f5-6ac33d827146",
   "metadata": {},
   "outputs": [],
   "source": [
    "train_data = torchvision.datasets.MNIST('../data', train=True, transform=ToTensor(), download=True)\n",
    "test_data = torchvision.datasets.MNIST('../data', train=False, transform=ToTensor(), download=True)\n",
    "batch_size = 124\n",
    "train_loader = torch.utils.data.DataLoader(train_data, batch_size=batch_size, shuffle=True)\n",
    "test_loader = torch.utils.data.DataLoader(test_data, batch_size=batch_size, shuffle=False)\n",
    "loaders = {'train' : train_loader, 'test' : test_loader}"
   ]
  },
  {
   "cell_type": "code",
   "execution_count": 4,
   "id": "987507e2-89bd-4a7f-81d5-916745046a61",
   "metadata": {},
   "outputs": [
    {
     "name": "stdout",
     "output_type": "stream",
     "text": [
      "Epoch [1/10], Step [100/484], Loss: 0.1198\n",
      "Epoch [1/10], Step [200/484], Loss: 0.1468\n",
      "Epoch [1/10], Step [300/484], Loss: 0.1068\n",
      "Epoch [1/10], Step [400/484], Loss: 0.0906\n",
      "Epoch [2/10], Step [100/484], Loss: 0.0066\n",
      "Epoch [2/10], Step [200/484], Loss: 0.0470\n",
      "Epoch [2/10], Step [300/484], Loss: 0.0223\n",
      "Epoch [2/10], Step [400/484], Loss: 0.0643\n",
      "Epoch [3/10], Step [100/484], Loss: 0.0111\n",
      "Epoch [3/10], Step [200/484], Loss: 0.0977\n",
      "Epoch [3/10], Step [300/484], Loss: 0.0192\n",
      "Epoch [3/10], Step [400/484], Loss: 0.0097\n",
      "Epoch [4/10], Step [100/484], Loss: 0.0636\n",
      "Epoch [4/10], Step [200/484], Loss: 0.0257\n",
      "Epoch [4/10], Step [300/484], Loss: 0.0222\n",
      "Epoch [4/10], Step [400/484], Loss: 0.0497\n",
      "Epoch [5/10], Step [100/484], Loss: 0.0272\n",
      "Epoch [5/10], Step [200/484], Loss: 0.0435\n",
      "Epoch [5/10], Step [300/484], Loss: 0.0018\n",
      "Epoch [5/10], Step [400/484], Loss: 0.1322\n",
      "Epoch [6/10], Step [100/484], Loss: 0.1210\n",
      "Epoch [6/10], Step [200/484], Loss: 0.0834\n",
      "Epoch [6/10], Step [300/484], Loss: 0.0135\n",
      "Epoch [6/10], Step [400/484], Loss: 0.0557\n",
      "Epoch [7/10], Step [100/484], Loss: 0.0504\n",
      "Epoch [7/10], Step [200/484], Loss: 0.0105\n",
      "Epoch [7/10], Step [300/484], Loss: 0.0397\n",
      "Epoch [7/10], Step [400/484], Loss: 0.0238\n",
      "Epoch [8/10], Step [100/484], Loss: 0.0039\n",
      "Epoch [8/10], Step [200/484], Loss: 0.0052\n",
      "Epoch [8/10], Step [300/484], Loss: 0.0072\n",
      "Epoch [8/10], Step [400/484], Loss: 0.0200\n",
      "Epoch [9/10], Step [100/484], Loss: 0.0100\n",
      "Epoch [9/10], Step [200/484], Loss: 0.0831\n",
      "Epoch [9/10], Step [300/484], Loss: 0.0199\n",
      "Epoch [9/10], Step [400/484], Loss: 0.0527\n",
      "Epoch [10/10], Step [100/484], Loss: 0.0051\n",
      "Epoch [10/10], Step [200/484], Loss: 0.0716\n",
      "Epoch [10/10], Step [300/484], Loss: 0.0076\n",
      "Epoch [10/10], Step [400/484], Loss: 0.0043\n"
     ]
    }
   ],
   "source": [
    "from torch.autograd import Variable\n",
    "from torch import optim\n",
    "\n",
    "cnn = ExampleCNN()\n",
    "\n",
    "\n",
    "num_epochs = 10\n",
    "\n",
    "loss_func = nn.CrossEntropyLoss()   \n",
    "optimizer = optim.Adam(cnn.parameters(), lr = 0.01)   \n",
    "\n",
    "def train(num_epochs, cnn, loaders):\n",
    "    \n",
    "    cnn.train()\n",
    "        \n",
    "    # Train the model\n",
    "    total_step = len(loaders['train'])\n",
    "        \n",
    "    for epoch in range(num_epochs):\n",
    "        for i, (images, labels) in enumerate(loaders['train']):\n",
    "            \n",
    "            # gives batch data, normalize x when iterate train_loader\n",
    "            b_x = Variable(images)   # batch x\n",
    "            b_y = Variable(labels)   # batch y\n",
    "            output = cnn(b_x)               \n",
    "            loss = loss_func(output, b_y)\n",
    "            \n",
    "            # clear gradients for this training step   \n",
    "            optimizer.zero_grad()           \n",
    "            \n",
    "            # backpropagation, compute gradients \n",
    "            loss.backward()                # apply gradients             \n",
    "            optimizer.step()                \n",
    "            \n",
    "            if (i+1) % 100 == 0:\n",
    "                print ('Epoch [{}/{}], Step [{}/{}], Loss: {:.4f}' \n",
    "                       .format(epoch + 1, num_epochs, i + 1, total_step, loss.item()))               \n",
    "                pass\n",
    "        pass\n",
    "    pass\n",
    "\n",
    "train(num_epochs, cnn, loaders)"
   ]
  },
  {
   "cell_type": "code",
   "execution_count": 8,
   "id": "ac145461-653a-41bb-bebc-2408724640f6",
   "metadata": {},
   "outputs": [
    {
     "name": "stdout",
     "output_type": "stream",
     "text": [
      "Test Accuracy of the model on the 10000 test images: 0.99\n"
     ]
    }
   ],
   "source": [
    "def test():\n",
    "    # Test the model\n",
    "    cnn.eval()    \n",
    "    \n",
    "    with torch.no_grad():\n",
    "        correct = 0\n",
    "        total = 0\n",
    "        for images, labels in loaders['test']:\n",
    "            test_output = cnn(images)\n",
    "            pred_y = torch.max(test_output, 1)[1].data.squeeze()\n",
    "            accuracy = (pred_y == labels).sum().item() / float(labels.size(0))\n",
    "            pass\n",
    "        print('Test Accuracy of the model on the 10000 test images: %.2f' % accuracy)\n",
    "    \n",
    "    pass\n",
    "test()"
   ]
  },
  {
   "cell_type": "code",
   "execution_count": 9,
   "id": "776d1011-c7ca-4d8e-92dc-393480073f3b",
   "metadata": {},
   "outputs": [
    {
     "name": "stdout",
     "output_type": "stream",
     "text": [
      "Prediction number: [7 2 1 0 4 1 4 9 5 9]\n",
      "Actual number: [7 2 1 0 4 1 4 9 5 9]\n"
     ]
    }
   ],
   "source": [
    "sample = next(iter(loaders['test']))\n",
    "imgs, lbls = sample\n",
    "actual_number = lbls[:10].numpy()\n",
    "test_output = cnn(imgs[:10])\n",
    "pred_y = torch.max(test_output, 1)[1].data.numpy().squeeze()\n",
    "print(f'Prediction number: {pred_y}')\n",
    "print(f'Actual number: {actual_number}')"
   ]
  },
  {
   "cell_type": "code",
   "execution_count": 10,
   "id": "85b681ed-aa09-49e6-b771-a2ffea08d52b",
   "metadata": {},
   "outputs": [
    {
     "name": "stdout",
     "output_type": "stream",
     "text": [
      "Parameter containing:\n",
      "tensor([[[[ 0.2206,  0.0396, -0.2983, -0.9940,  0.6291],\n",
      "          [ 0.1813,  0.3511, -0.1126, -0.7033, -0.3305],\n",
      "          [ 0.0420,  0.6686,  0.5721,  0.2731, -0.0810],\n",
      "          [-0.1553, -0.0867,  0.1919, -0.0474,  0.1190],\n",
      "          [-0.3456, -0.3850, -0.1781,  0.3359,  0.2229]]],\n",
      "\n",
      "\n",
      "        [[[ 0.1366, -0.0457,  0.2032,  0.0245,  0.3715],\n",
      "          [ 0.1304, -0.0136, -0.3135, -0.1376,  0.4895],\n",
      "          [ 0.4615,  0.2248, -1.0106, -0.5781, -0.2142],\n",
      "          [ 0.4486, -1.7338, -0.5122,  0.1766,  0.6348],\n",
      "          [-1.0547,  0.3682,  0.4127,  0.1762,  0.2583]]],\n",
      "\n",
      "\n",
      "        [[[-1.1100, -0.3975,  0.3374,  0.2614, -0.7310],\n",
      "          [-0.4687, -0.2028,  0.2658,  0.4972, -0.3421],\n",
      "          [-0.0878, -0.2470,  0.2499,  0.0786,  0.1707],\n",
      "          [-0.8226, -0.4818, -0.2887,  0.3996, -0.0042],\n",
      "          [-0.1535, -0.2939, -0.0410,  0.2743,  0.3219]]],\n",
      "\n",
      "\n",
      "        [[[ 0.1032, -0.0963, -0.6364, -0.6036, -0.2142],\n",
      "          [-0.2413, -0.7968, -0.9535, -0.2650,  0.0373],\n",
      "          [-0.6020, -0.3549, -0.4940,  0.2591,  0.0339],\n",
      "          [-0.8580, -0.2080,  0.4242,  0.5411, -0.0110],\n",
      "          [ 0.1887,  0.2234,  0.3351, -0.0438, -1.0069]]],\n",
      "\n",
      "\n",
      "        [[[-0.9579, -0.7272, -0.0252,  0.2966, -0.0171],\n",
      "          [ 0.0813,  0.3838,  0.5153,  0.0787, -0.6277],\n",
      "          [ 0.2792, -0.0415, -0.2996, -0.2600, -0.2907],\n",
      "          [-0.5813, -0.6341, -0.1873, -0.0426, -0.1238],\n",
      "          [ 0.0404, -0.1352, -0.8225, -0.5344,  0.0868]]],\n",
      "\n",
      "\n",
      "        [[[ 0.1453,  0.2764, -0.4051, -0.2088,  0.2677],\n",
      "          [ 0.1898,  0.1048, -0.6103, -0.2863,  0.1855],\n",
      "          [ 0.5160,  0.0567, -0.6286, -0.4883, -0.1119],\n",
      "          [ 0.5398, -0.1095, -0.9958, -0.8991, -0.0415],\n",
      "          [ 0.1104, -0.3788, -0.9582, -0.7614, -0.3424]]],\n",
      "\n",
      "\n",
      "        [[[ 0.0077, -0.0756,  0.2654, -0.8229, -0.1854],\n",
      "          [ 0.1024, -0.5087, -0.5255, -0.8805, -0.7324],\n",
      "          [ 0.1967, -0.2424, -0.8319, -0.8675,  0.1289],\n",
      "          [ 0.3576,  0.2838, -0.6198, -1.6365,  0.1127],\n",
      "          [ 0.2760,  0.5577, -0.0152, -1.4941, -0.3211]]],\n",
      "\n",
      "\n",
      "        [[[ 0.0736, -0.0716,  0.0516, -0.5447,  0.0523],\n",
      "          [ 0.1158, -0.0832, -0.1133, -0.0620,  0.2236],\n",
      "          [ 0.3542,  0.4255,  0.4503,  0.4390,  0.5609],\n",
      "          [-0.0912, -0.1417,  0.2092, -0.1548, -0.1893],\n",
      "          [-0.4296, -0.3077, -0.6849, -0.8140, -0.6900]]],\n",
      "\n",
      "\n",
      "        [[[ 0.2625, -0.1046,  0.0699,  0.5210,  0.5834],\n",
      "          [-0.0138, -0.2598, -0.2147,  0.0648,  0.2307],\n",
      "          [-0.4978, -0.1040,  0.0568,  0.0072,  0.2264],\n",
      "          [-1.2523, -1.0531, -1.1400, -0.6469, -0.7831],\n",
      "          [-0.1268, -0.0369, -0.0861, -0.5369, -0.3184]]],\n",
      "\n",
      "\n",
      "        [[[-0.2024,  0.1167,  0.1947,  0.0519, -0.3303],\n",
      "          [-1.3056, -0.4959, -0.2315,  0.3717,  0.2384],\n",
      "          [-0.8141, -0.3637, -1.0372, -0.4302,  0.5248],\n",
      "          [-0.5569, -0.4265, -0.6986, -0.7238,  0.3518],\n",
      "          [-0.1103, -0.4527, -0.6668, -1.4182, -0.5153]]],\n",
      "\n",
      "\n",
      "        [[[-1.7519, -1.0402,  0.4711,  0.5224,  0.1665],\n",
      "          [ 0.2203, -0.8794, -1.3819, -0.0068, -0.5190],\n",
      "          [ 0.4128, -0.1630, -0.5490, -0.4007, -0.7268],\n",
      "          [ 0.0505,  0.2284, -0.1797, -0.0876,  0.1067],\n",
      "          [-0.1445,  0.0554,  0.3947,  0.3827,  0.5701]]],\n",
      "\n",
      "\n",
      "        [[[ 0.7052,  0.4826,  0.3195, -0.2041, -0.0587],\n",
      "          [-0.6752,  0.0532,  0.0404, -0.7915, -0.3092],\n",
      "          [-0.2871, -0.8469, -0.8602, -1.1121, -0.0565],\n",
      "          [ 0.3328,  0.0338, -0.9321, -0.8163, -0.3388],\n",
      "          [ 0.3280,  0.2137,  0.1607, -0.3013, -0.8966]]],\n",
      "\n",
      "\n",
      "        [[[-0.0648,  0.2597,  0.3131,  0.1303, -0.5071],\n",
      "          [ 0.2304,  0.3445,  0.0502,  0.1756, -1.2117],\n",
      "          [ 0.0388,  0.0805,  0.3959, -0.0302, -0.7926],\n",
      "          [-1.3047, -0.2720,  0.5000,  0.2555, -0.3398],\n",
      "          [-0.6143, -0.0834,  0.2202,  0.1071, -0.2825]]],\n",
      "\n",
      "\n",
      "        [[[-0.0328,  0.3086,  0.3083,  0.1517,  0.1543],\n",
      "          [-0.0683,  0.1474,  0.0989, -0.4052, -0.2447],\n",
      "          [ 0.1939,  0.3354,  0.0412, -0.2458, -0.6172],\n",
      "          [ 0.3800,  0.2620, -0.2146, -0.6427, -0.6797],\n",
      "          [ 0.3236,  0.2792, -0.2310, -0.1726,  0.1717]]],\n",
      "\n",
      "\n",
      "        [[[ 0.1051, -0.1754,  0.2191, -0.6520, -0.5700],\n",
      "          [ 0.2119, -0.8627, -0.9755, -0.4821,  0.4189],\n",
      "          [-0.1429, -1.5628, -0.6965,  0.0494,  0.4034],\n",
      "          [-0.7484, -0.2428, -0.0270,  0.4452,  0.1185],\n",
      "          [-1.2392, -0.4755, -0.2186,  0.0945,  0.4087]]],\n",
      "\n",
      "\n",
      "        [[[ 0.7512,  0.0949, -0.0066, -0.7006, -0.2238],\n",
      "          [ 0.3202, -0.0222, -1.3948, -1.0285, -0.0619],\n",
      "          [-0.2523, -0.2825, -0.2936,  0.1075,  0.0132],\n",
      "          [-0.9975, -0.9250, -0.7182, -0.0874,  0.0830],\n",
      "          [-0.4998, -0.2091, -0.2484, -0.2943, -0.0422]]]], requires_grad=True)\n"
     ]
    }
   ],
   "source": [
    "print(cnn.conv1.weight)"
   ]
  },
  {
   "cell_type": "code",
   "execution_count": 21,
   "id": "e93bbc4c-8e07-4e97-a4fc-c53cd2502e97",
   "metadata": {},
   "outputs": [
    {
     "data": {
      "image/png": "[encoded data removed]",
      "text/plain": [
       "<Figure size 432x288 with 1 Axes>"
      ]
     },
     "metadata": {
      "needs_background": "light"
     },
     "output_type": "display_data"
    }
   ],
   "source": [
    "import matplotlib.pyplot as plt\n",
    "import numpy as np\n",
    "\n",
    "layer1_filter = 0\n",
    "\n",
    "plt.imshow(np.squeeze(cnn.conv1.weight.detach().numpy()[layer1_filter,:,:,:]), cmap='gray')\n",
    "plt.show()"
   ]
  },
  {
   "cell_type": "code",
   "execution_count": 24,
   "id": "4a6777dd-6525-49cb-957b-e7f1afb7a6ca",
   "metadata": {},
   "outputs": [
    {
     "data": {
      "image/png": "[encoded data removed]",
      "text/plain": [
       "<Figure size 432x288 with 1 Axes>"
      ]
     },
     "metadata": {
      "needs_background": "light"
     },
     "output_type": "display_data"
    }
   ],
   "source": [
    "layer2_filter = 0\n",
    "\n",
    "plt.imshow(cnn.conv2.weight.detach().numpy()[layer2_filter, layer1_filter, :, :], cmap='gray')\n",
    "plt.show()"
   ]
  },
  {
   "cell_type": "code",
   "execution_count": null,
   "id": "be6a3340-7d57-47f4-a191-0c774eb72faa",
   "metadata": {},
   "outputs": [],
   "source": []
  }
 ],
 "metadata": {
  "kernelspec": {
   "display_name": "Python 3 (ipykernel)",
   "language": "python",
   "name": "python3"
  },
  "language_info": {
   "codemirror_mode": {
    "name": "ipython",
    "version": 3
   },
   "file_extension": ".py",
   "mimetype": "text/x-python",
   "name": "python",
   "nbconvert_exporter": "python",
   "pygments_lexer": "ipython3",
   "version": "3.8.11"
  }
 },
 "nbformat": 4,
 "nbformat_minor": 5
}
